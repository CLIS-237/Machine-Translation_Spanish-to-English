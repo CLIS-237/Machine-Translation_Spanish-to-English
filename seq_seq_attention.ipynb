{
  "nbformat": 4,
  "nbformat_minor": 0,
  "metadata": {
    "colab": {
      "name": "seq_seq_attention.ipynb",
      "provenance": [],
      "collapsed_sections": [],
      "mount_file_id": "1bJC27ibhXVGWPSvgXOfdrdIvfyjx6W_8",
      "authorship_tag": "ABX9TyOCbxyZdzoOAVsWVI6cchsb",
      "include_colab_link": true
    },
    "kernelspec": {
      "display_name": "Python 3",
      "name": "python3"
    },
    "language_info": {
      "name": "python"
    }
  },
  "cells": [
    {
      "cell_type": "markdown",
      "metadata": {
        "id": "view-in-github",
        "colab_type": "text"
      },
      "source": [
        "<a href=\"https://colab.research.google.com/github/SunshyPiKaChew/seq2seq_attention/blob/master/seq_seq_attention.ipynb\" target=\"_parent\"><img src=\"https://colab.research.google.com/assets/colab-badge.svg\" alt=\"Open In Colab\"/></a>"
      ]
    },
    {
      "cell_type": "code",
      "metadata": {
        "id": "lnWPdM__tQJc"
      },
      "source": [
        "#!pip install tensorflow==2.0.0-beta1\n",
        "import matplotlib as mpl\n",
        "import matplotlib.pyplot as plt\n",
        "%matplotlib inline\n",
        "import numpy as np\n",
        "import sklearn\n",
        "import pandas as pd\n",
        "import os\n",
        "import sys\n",
        "import time\n",
        "import tensorflow as tf\n",
        "import warnings\n",
        "warnings.filterwarnings(\"ignore\")\n",
        "\n",
        "from tensorflow import keras"
      ],
      "execution_count": 3,
      "outputs": []
    },
    {
      "cell_type": "code",
      "metadata": {
        "colab": {
          "base_uri": "https://localhost:8080/"
        },
        "id": "KMzpjEWgtQXz",
        "outputId": "d1cd9e75-d198-4888-d009-04759ec7b793"
      },
      "source": [
        "! /opt/bin/nvidia-smi"
      ],
      "execution_count": 4,
      "outputs": [
        {
          "output_type": "stream",
          "text": [
            "/bin/bash: /opt/bin/nvidia-smi: No such file or directory\n"
          ],
          "name": "stdout"
        }
      ]
    },
    {
      "cell_type": "code",
      "metadata": {
        "colab": {
          "base_uri": "https://localhost:8080/"
        },
        "id": "LLixUxKutcl2",
        "outputId": "50402e84-307d-44d2-d27f-edce9f074b59"
      },
      "source": [
        "print(tf.__version__)\n",
        "print(sys.version_info)\n",
        "for module in mpl, np, pd, sklearn, tf, keras:\n",
        "  print(module.__name__, module.__version__)"
      ],
      "execution_count": 5,
      "outputs": [
        {
          "output_type": "stream",
          "text": [
            "2.4.1\n",
            "sys.version_info(major=3, minor=7, micro=10, releaselevel='final', serial=0)\n",
            "matplotlib 3.2.2\n",
            "numpy 1.19.5\n",
            "pandas 1.1.5\n",
            "sklearn 0.22.2.post1\n",
            "tensorflow 2.4.1\n",
            "tensorflow.keras 2.4.0\n"
          ],
          "name": "stdout"
        }
      ]
    },
    {
      "cell_type": "code",
      "metadata": {
        "id": "qVyjESk2tzDv"
      },
      "source": [
        "# 1. preprocessing data\n",
        "# 2. build model\n",
        "# 2.1 encoder\n",
        "# 2.2 attetion\n",
        "# 2.3 decoder\n",
        "# 3. evaluation\n",
        "# 3.1 given sentence. return translate results\n",
        "# 3.2 visualize results (attention)"
      ],
      "execution_count": 6,
      "outputs": []
    },
    {
      "cell_type": "code",
      "metadata": {
        "colab": {
          "base_uri": "https://localhost:8080/"
        },
        "id": "i6hEAeCUvzlo",
        "outputId": "4025c0f9-5fdc-4f38-9ddd-6b02f18bf293"
      },
      "source": [
        "# unicode2ascii 去掉西班牙语的重音\n",
        "import unicodedata\n",
        "def unicode_to_ascii(s):\n",
        "  # normalize 的 NFD 方法，如果一个unicode值包含多个字符，那么把他拆开，例如e和重音分开\n",
        "  # 'Mn' 重音的分类标志\n",
        "  return ''.join(c for c in unicodedata.normalize('NFD', s) if unicodedata.category(c) != 'Mn')\n",
        "en_sentence = 'Then what?'\n",
        "sp_sentence = '¿Entonces qué?'\n",
        "\n",
        "print(unicode_to_ascii(en_sentence))\n",
        "print(unicode_to_ascii(sp_sentence))"
      ],
      "execution_count": 7,
      "outputs": [
        {
          "output_type": "stream",
          "text": [
            "Then what?\n",
            "¿Entonces que?\n"
          ],
          "name": "stdout"
        }
      ]
    },
    {
      "cell_type": "code",
      "metadata": {
        "colab": {
          "base_uri": "https://localhost:8080/"
        },
        "id": "oSq4oDIhypbS",
        "outputId": "093cc0a6-4154-43c6-e232-3c0cbca33420"
      },
      "source": [
        "# 字符串预处理\n",
        "import re\n",
        "def preprocess_sentence(s):\n",
        "  s = unicode_to_ascii(s.lower().strip())\n",
        "  # [] 匹配操作 () 替换操作 前后加空格\n",
        "  s = re.sub(r\"([?.!,¿])\", r\" \\1 \", s)\n",
        "  # 将一个或多个空格替换为一个空格\n",
        "  s = re.sub(r'[\" \"]+', \" \", s)\n",
        "  # 除了字母和标点符号都替换为空格\n",
        "  s = re.sub(r'[^a-zA-Z?.!,¿]', \" \", s)\n",
        "  # 去掉前后的空格\n",
        "  s = s.rstrip().strip()\n",
        "  # 添加前后特殊字符\n",
        "  s = '<start> ' + s + ' <end>'\n",
        "  return s\n",
        "\n",
        "print(preprocess_sentence(en_sentence))\n",
        "print(preprocess_sentence(sp_sentence))\n"
      ],
      "execution_count": 8,
      "outputs": [
        {
          "output_type": "stream",
          "text": [
            "<start> then what ? <end>\n",
            "<start> ¿ entonces que ? <end>\n"
          ],
          "name": "stdout"
        }
      ]
    },
    {
      "cell_type": "code",
      "metadata": {
        "colab": {
          "base_uri": "https://localhost:8080/"
        },
        "id": "e1orHnX7vNGD",
        "outputId": "4df092a3-f05f-40b7-922e-9379f68239f2"
      },
      "source": [
        "from google.colab import drive\n",
        "drive.mount('/content/drive')\n",
        "en_spa_file_path = '/content/drive/MyDrive/Colab/chapter_10/data_spa_en/spa.txt'\n",
        "\n",
        "# 非挂载方式\n",
        "#en_spa_file_path = '/content/train_local/spa.txt'\n",
        "\n",
        "# 尝试2\n",
        "#!mkdir ./data\n",
        "#!cp ./drive/MyDrive/Colab\\ Notebooks/spa.zip ./data/\n",
        "#!cd ./data && unzip spa.zip\n",
        "#en_spa_file_path = './data/spa.txt'"
      ],
      "execution_count": 9,
      "outputs": [
        {
          "output_type": "stream",
          "text": [
            "Drive already mounted at /content/drive; to attempt to forcibly remount, call drive.mount(\"/content/drive\", force_remount=True).\n"
          ],
          "name": "stdout"
        }
      ]
    },
    {
      "cell_type": "code",
      "metadata": {
        "colab": {
          "base_uri": "https://localhost:8080/"
        },
        "id": "5q1aGPzXjdGQ",
        "outputId": "d92226b3-2d2a-464e-d982-0c66da74b5cb"
      },
      "source": [
        "def parse_data(filename):\n",
        "  # 根据回车分割数据中的每一行\n",
        "  lines = open(filename, encoding='UTF-8').read().strip().split('\\n')\n",
        "  # 根据制表符分割西班牙文和英文\n",
        "  sentence_pairs = [line.split('\\t') for line in lines]\n",
        "  preprocessed_sentence_pairs = [\n",
        "    (preprocess_sentence(en), preprocess_sentence(sp)) for en,sp in sentence_pairs]\n",
        "  return zip(*preprocessed_sentence_pairs)\n",
        "\n",
        "en_dataset, sp_dataset = parse_data(en_spa_file_path)\n",
        "print(en_dataset[-1])\n",
        "print(sp_dataset[-1])\n"
      ],
      "execution_count": 10,
      "outputs": [
        {
          "output_type": "stream",
          "text": [
            "<start> if you want to sound like a native speaker , you must be willing to practice saying the same sentence over and over in the same way that banjo players practice the same phrase over and over until they can play it correctly and at the desired tempo . <end>\n",
            "<start> si quieres sonar como un hablante nativo , debes estar dispuesto a practicar diciendo la misma frase una y otra vez de la misma manera en que un musico de banjo practica el mismo fraseo una y otra vez hasta que lo puedan tocar correctamente y en el tiempo esperado . <end>\n"
          ],
          "name": "stdout"
        }
      ]
    },
    {
      "cell_type": "code",
      "metadata": {
        "colab": {
          "base_uri": "https://localhost:8080/"
        },
        "id": "sF7iAng9yziM",
        "outputId": "3147e759-96cd-4691-af86-e0d9a9fd1a08"
      },
      "source": [
        "# 文本式数据转化为ID式数据\n",
        "def tokenizer(lang):\n",
        "  lang_tokenizer = keras.preprocessing.text.Tokenizer(num_words = None, filters='', split=' ')\n",
        "  lang_tokenizer.fit_on_texts(lang)\n",
        "  tensor = lang_tokenizer.texts_to_sequences(lang)\n",
        "  # Padding\n",
        "  tensor = keras.preprocessing.sequence.pad_sequences(tensor, padding = 'post')\n",
        "  return tensor, lang_tokenizer\n",
        "\n",
        "input_tensor, input_tokenizer = tokenizer(sp_dataset[0:30000])\n",
        "output_tensor, output_tokenizer = tokenizer(en_dataset[0:30000])\n",
        "\n",
        "def max_length(tensor):\n",
        "  return max(len(t) for t in tensor)\n",
        "\n",
        "max_length_input = max_length(input_tensor)\n",
        "max_length_output = max_length(output_tensor)\n",
        "print(max_length_input, max_length_output)"
      ],
      "execution_count": 11,
      "outputs": [
        {
          "output_type": "stream",
          "text": [
            "16 11\n"
          ],
          "name": "stdout"
        }
      ]
    },
    {
      "cell_type": "code",
      "metadata": {
        "colab": {
          "base_uri": "https://localhost:8080/"
        },
        "id": "3at6ZzSc_qZs",
        "outputId": "9813d97f-08f3-4d60-8ff8-d5c97fa2e6a8"
      },
      "source": [
        "# 调用sklearn函数分割数据集\n",
        "from sklearn.model_selection import train_test_split\n",
        "input_train, input_eval, output_train, output_eval = train_test_split(input_tensor, output_tensor, test_size = 0.2)\n",
        "len(input_train),len(input_eval), len(output_train), len(output_eval)"
      ],
      "execution_count": 12,
      "outputs": [
        {
          "output_type": "execute_result",
          "data": {
            "text/plain": [
              "(24000, 6000, 24000, 6000)"
            ]
          },
          "metadata": {
            "tags": []
          },
          "execution_count": 12
        }
      ]
    },
    {
      "cell_type": "code",
      "metadata": {
        "colab": {
          "base_uri": "https://localhost:8080/"
        },
        "id": "EA5l5F6iApKQ",
        "outputId": "ec4c5888-eee4-46f3-b995-a4d83d1c0ab3"
      },
      "source": [
        "def convert(example, tokenizer):\n",
        "  for t in example:\n",
        "    if t != 0:\n",
        "      print('%d --> %s' % (t,tokenizer.index_word[t]))\n",
        "\n",
        "convert(input_train[0],input_tokenizer)\n",
        "print()\n",
        "convert(output_train[0],output_tokenizer)"
      ],
      "execution_count": 13,
      "outputs": [
        {
          "output_type": "stream",
          "text": [
            "1 --> <start>\n",
            "1095 --> admiro\n",
            "10 --> a\n",
            "4 --> tom\n",
            "3 --> .\n",
            "2 --> <end>\n",
            "\n",
            "1 --> <start>\n",
            "4 --> i\n",
            "1024 --> admire\n",
            "5 --> tom\n",
            "3 --> .\n",
            "2 --> <end>\n"
          ],
          "name": "stdout"
        }
      ]
    },
    {
      "cell_type": "code",
      "metadata": {
        "colab": {
          "base_uri": "https://localhost:8080/"
        },
        "id": "J32VumKI-L7N",
        "outputId": "33734549-78a8-4a72-e0a2-e6b8388a0da2"
      },
      "source": [
        "# 比如训练集有50000个样本，而我设定的batch_size是50，也就是说每50个样本才更新一次参数，那么也就意味着一个epoch里会提取1000次bach，\n",
        "# 这样才会把每个样本都提取了一遍，更新了1000次参数。\n",
        "\n",
        "# 这是一个epoch里做的，依次类推，我要设定2000个epoch意味着把这个过程重复2000次。也就是训练集里的每个样本都被提取了2000次。\n",
        "\n",
        "# 生成DataSet\n",
        "def make_dataset(input_tensor, output_tensor, batch_size, epochs, shuffle):\n",
        "  dataset = tf.data.Dataset.from_tensor_slices((input_tensor, output_tensor))\n",
        "  if shuffle:\n",
        "    dataset = dataset.shuffle(30000)\n",
        "  dataset = dataset.repeat(epochs).batch(batch_size, drop_remainder = True)\n",
        "  return dataset\n",
        "\n",
        "batch_size = 64;\n",
        "epochs = 20\n",
        "\n",
        "train_dataset = make_dataset(input_train, output_train, batch_size, epochs, True)\n",
        "eval_dataset = make_dataset(input_eval, output_eval, batch_size, epochs, False)\n",
        "\n",
        "# 64 是一个bacth的大小 16 11 分别为输入输出padding之后的大小\n",
        "for x,y in train_dataset.take(1):\n",
        "  print(x.shape)\n",
        "  print(y.shape)\n",
        "  print(x)\n",
        "  print(y)"
      ],
      "execution_count": 14,
      "outputs": [
        {
          "output_type": "stream",
          "text": [
            "(64, 16)\n",
            "(64, 11)\n",
            "tf.Tensor(\n",
            "[[   1   30   55 ...    0    0    0]\n",
            " [   1    6  137 ...    0    0    0]\n",
            " [   1    6 1656 ...    0    0    0]\n",
            " ...\n",
            " [   1   13  366 ...    0    0    0]\n",
            " [   1   52   36 ...    0    0    0]\n",
            " [   1  352  849 ...    0    0    0]], shape=(64, 16), dtype=int32)\n",
            "tf.Tensor(\n",
            "[[   1   19   26    9  506    3    2    0    0    0    0]\n",
            " [   1  486  192    7    2    0    0    0    0    0    0]\n",
            " [   1   22    6  207 1916    7    2    0    0    0    0]\n",
            " [   1    4   35  327    3    2    0    0    0    0    0]\n",
            " [   1    4   63  162 3080    3    2    0    0    0    0]\n",
            " [   1   25 1593  246    7    2    0    0    0    0    0]\n",
            " [   1   16   65  160  338    3    2    0    0    0    0]\n",
            " [   1   20   11   21  310    3    2    0    0    0    0]\n",
            " [   1   10  678   17  691    3    2    0    0    0    0]\n",
            " [   1   14  511  295  109    3    2    0    0    0    0]\n",
            " [   1    4  161 1273 1216    3    2    0    0    0    0]\n",
            " [   1  174   13 2070    3    2    0    0    0    0    0]\n",
            " [   1    4  100   13 1351 1298    3    2    0    0    0]\n",
            " [   1   21 2998   76  105    3    2    0    0    0    0]\n",
            " [   1    6   23  955    3    2    0    0    0    0    0]\n",
            " [   1   60  420    7    2    0    0    0    0    0    0]\n",
            " [   1    4  234   60   14   26    3    2    0    0    0]\n",
            " [   1    4   63  162   73    3    2    0    0    0    0]\n",
            " [   1   46   11  171   41    3    2    0    0    0    0]\n",
            " [   1   14  629   54 1597    3    2    0    0    0    0]\n",
            " [   1    4  194  650   34  295    3    2    0    0    0]\n",
            " [   1    4   65  250  119    6    3    2    0    0    0]\n",
            " [   1   14   11    9 3539    3    2    0    0    0    0]\n",
            " [   1    6  663    3    2    0    0    0    0    0    0]\n",
            " [   1 2206 3682    3    2    0    0    0    0    0    0]\n",
            " [   1   32   22    6  221    7    2    0    0    0    0]\n",
            " [   1    5   38  202   74    3    2    0    0    0    0]\n",
            " [   1  111  857    3    2    0    0    0    0    0    0]\n",
            " [   1    4 2158  158    3    2    0    0    0    0    0]\n",
            " [   1    8    5  252    7    2    0    0    0    0    0]\n",
            " [   1   22    6   35 1856    7    2    0    0    0    0]\n",
            " [   1   28  145   33    3    2    0    0    0    0    0]\n",
            " [   1  397  356    8  263    7    2    0    0    0    0]\n",
            " [   1   14   51    9  405   83    3    2    0    0    0]\n",
            " [   1    4   29   84  418    3    2    0    0    0    0]\n",
            " [   1   70   64   91   39    3    2    0    0    0    0]\n",
            " [   1    5 1684    3    2    0    0    0    0    0    0]\n",
            " [   1    6  313   48  224    3    2    0    0    0    0]\n",
            " [   1    5  123   64    9  134    3    2    0    0    0]\n",
            " [   1   24  254  263    7    2    0    0    0    0    0]\n",
            " [   1    4   43   10   11 1144    3    2    0    0    0]\n",
            " [   1  111   33  450    3    2    0    0    0    0    0]\n",
            " [   1    4   43    9  817  462    3    2    0    0    0]\n",
            " [   1  497   17    3    2    0    0    0    0    0    0]\n",
            " [   1  199   10   57    3    2    0    0    0    0    0]\n",
            " [   1   13 1058 3116  128    3    2    0    0    0    0]\n",
            " [   1   24    6  101   58    7    2    0    0    0    0]\n",
            " [   1  174   10  131    3    2    0    0    0    0    0]\n",
            " [   1   62    4 1472    6    7    2    0    0    0    0]\n",
            " [   1    4   18  691   49   78    3    2    0    0    0]\n",
            " [   1   25  442   73   17    7    2    0    0    0    0]\n",
            " [   1    6   92  492    3    2    0    0    0    0    0]\n",
            " [   1 1290   10   11   78  167    3    2    0    0    0]\n",
            " [   1   19    8   21  387    3    2    0    0    0    0]\n",
            " [   1    5  276  759    3    2    0    0    0    0    0]\n",
            " [   1   30   12  136  242    3    2    0    0    0    0]\n",
            " [   1    4  420    3    2    0    0    0    0    0    0]\n",
            " [   1    5 1546   33    3    2    0    0    0    0    0]\n",
            " [   1   22    6   35 2697    7    2    0    0    0    0]\n",
            " [   1    4   43   71   15  264    3    2    0    0    0]\n",
            " [   1   42    6  456   13  655    7    2    0    0    0]\n",
            " [   1   13  227    8   66    3    2    0    0    0    0]\n",
            " [   1    6   24   48  549    3    2    0    0    0    0]\n",
            " [   1   86  783   37    2    0    0    0    0    0    0]], shape=(64, 11), dtype=int32)\n"
          ],
          "name": "stdout"
        }
      ]
    },
    {
      "cell_type": "code",
      "metadata": {
        "id": "eWAZqZy289ly"
      },
      "source": [
        "# 超参数定义\n",
        "\n",
        "# 将单词进行编码，编码长度为256\n",
        "embedding_units = 256   \n",
        "# 中间循环神经网络 encoder decoder  \n",
        "units = 1024          \n",
        "# 输入词表长度\n",
        "input_vocab_size = len(input_tokenizer.word_index) + 1\n",
        "# 输出词表长度\n",
        "output_vocab_size = len(output_tokenizer.word_index) + 1"
      ],
      "execution_count": 15,
      "outputs": []
    },
    {
      "cell_type": "code",
      "metadata": {
        "colab": {
          "base_uri": "https://localhost:8080/"
        },
        "id": "2_BB8LDp50XO",
        "outputId": "726b3eac-4bf7-482a-ae59-90285a5e53ca"
      },
      "source": [
        "# 调用子类API\n",
        "class Encoder(tf.keras.Model):\n",
        "  # 初始化函数\n",
        "  def __init__(self, vocab_size, embedding_units, encoding_units, batch_size):\n",
        "    # 调用父类初始化函数\n",
        "    super(Encoder, self).__init__()\n",
        "    # 赋初值\n",
        "    self.batch_size = batch_size;\n",
        "    self.encoding_units = encoding_units;\n",
        "    # 一个规定输入词表大小和输出编码大小的编码器\n",
        "    self.embedding = keras.layers.Embedding(vocab_size, embedding_units)\n",
        "    # 每一步的隐层状态： 矩阵 hide_state 最后一步的输出：cell_state\n",
        "    self.gru = keras.layers.GRU(self.encoding_units, return_sequences = True, return_state = True, recurrent_initializer = 'glorot_uniform')\n",
        "  def call(self, x, hidden):\n",
        "    # 输入编码\n",
        "    x = self.embedding(x)\n",
        "    output, state = self.gru(x, initial_state = hidden)\n",
        "    # 每一步输出和最后一次输出的隐含状态\n",
        "    return output, state\n",
        "\n",
        "  def initialize_hidden_state(self):    \n",
        "    return tf.zeros((self.batch_size, self.encoding_units))\n",
        "\n",
        "encoder = Encoder(input_vocab_size, embedding_units, units, batch_size)\n",
        "sample_hidden = encoder.initialize_hidden_state()\n",
        "sample_output, sample_hidden = encoder.call(x, sample_hidden)\n",
        "print('output_shape')\n",
        "print(sample_output.shape)\n",
        "print('decoder_hidden_shape')\n",
        "print(sample_hidden.shape)\n"
      ],
      "execution_count": 16,
      "outputs": [
        {
          "output_type": "stream",
          "text": [
            "output_shape\n",
            "(64, 16, 1024)\n",
            "decoder_hidden_shape\n",
            "(64, 1024)\n"
          ],
          "name": "stdout"
        }
      ]
    },
    {
      "cell_type": "code",
      "metadata": {
        "colab": {
          "base_uri": "https://localhost:8080/"
        },
        "id": "InQe9MmLXvGB",
        "outputId": "da94dc3a-80d9-4646-b9f6-36aa4bfcf4dc"
      },
      "source": [
        "class BahdanauAttention(keras.Model):\n",
        "  def __init__(self, units):\n",
        "    # units 全连接层的维度 y = A * x\n",
        "    super(BahdanauAttention, self).__init__()\n",
        "    self.W1 = keras.layers.Dense(units)\n",
        "    self.W2 = keras.layers.Dense(units)\n",
        "    self.V = keras.layers.Dense(1)\n",
        "  def call(self, decoder_hidden, encoder_outputs):\n",
        "    # decoder_hidden.shape: (batch_size,units) (64,1024)\n",
        "    # encoder_outputs.shape: (batch_size, length, units) (64,16,1024)\n",
        "    # decoder_hidden_with_time_axis: (batch_size,1,units) (64,1,1024)\n",
        "    # 保证大的维度一致，就可以相加\n",
        "\n",
        "    decoder_hidden_with_time_axis = tf.expand_dims(decoder_hidden, 1)\n",
        "\n",
        "    # before V: (batch_size, length, units) 64 16 10\n",
        "    # after V socre: (batch_size, length, 1)  64 16 1\n",
        "    # self.W1(encoder_outputs) 64 16 10\n",
        "    # self.W2(decoder_hidden_with_time_axis) 64 1 10\n",
        "    # tanh不改变维度\n",
        "    score = self.V(\n",
        "        tf.nn.tanh(\n",
        "            self.W1(encoder_outputs) + self.W2(decoder_hidden_with_time_axis)\n",
        "        )\n",
        "    )\n",
        "\n",
        "    # attention_weights.shape: (batch_size, length, 1)\n",
        "    # attention 只和 单词（length） 有关系, 所以只能在length上做softmax\n",
        "    attention_weights = tf.nn.softmax(score, axis = 1)\n",
        "    \n",
        "    # context_vector.shape: (batch_size, length, units) 64 16 1024\n",
        "    # 维度不匹配的相乘(忽略batch_size 维度)\n",
        "    # [attention_weight 按列复制1024份] * [encoder_outputs] 16*1024\n",
        "    # attention_weight.shape() 64 16 1; encoder_outputs.shape() 64 16 1024\n",
        "    # attention_weights 实际是length的权重\n",
        "    context_vector = attention_weights * encoder_outputs\n",
        "    \n",
        "    # context_vector.shape: (batch_size, units) 64 1024\n",
        "    context_vector = tf.reduce_sum(context_vector, axis = 1)\n",
        "\n",
        "    return context_vector, attention_weights\n",
        "\n",
        "attention_model = BahdanauAttention(units = 10)\n",
        "attention_results, attention_weights = attention_model(sample_hidden, sample_output)\n",
        "\n",
        "print(\"attention_results.shape:\", attention_results.shape)\n",
        "print(\"attention_weights.shape:\", attention_weights.shape)"
      ],
      "execution_count": 17,
      "outputs": [
        {
          "output_type": "stream",
          "text": [
            "attention_results.shape: (64, 1024)\n",
            "attention_weights.shape: (64, 16, 1)\n"
          ],
          "name": "stdout"
        }
      ]
    },
    {
      "cell_type": "code",
      "metadata": {
        "colab": {
          "base_uri": "https://localhost:8080/"
        },
        "id": "RWZJpQQ16SRs",
        "outputId": "aede7069-0e76-4a39-e0b5-283af7b1fef0"
      },
      "source": [
        "class Decoder(keras.Model):\n",
        "  def __init__(self, vocab_size, embedding_units, decoding_units, batch_size):\n",
        "    super(Decoder, self).__init__()\n",
        "    self.batch_size = batch_size\n",
        "    self.decoding_units = decoding_units\n",
        "    self.embedding = keras.layers.Embedding(vocab_size, embedding_units)\n",
        "    self.gru = keras.layers.GRU(self.decoding_units, return_sequences= True, return_state = True, recurrent_initializer = 'glorot_uniform')\n",
        "    self.fc = keras.layers.Dense(vocab_size)\n",
        "\n",
        "    self.attention = BahdanauAttention(decoding_units)\n",
        "  \n",
        "  def call(self, x, hidden, encoding_outputs):\n",
        "    # context_vector.shape: (batch_size, units) 64 1024\n",
        "    context_vector, attention_weights = self.attention(hidden, encoding_outputs)\n",
        "    # before embedding: x.shape: (batch_size,1) 64 1 一步编码，x长度是1不是16\n",
        "    x = self.embedding(x)\n",
        "    # after embedding: x.shape: (batch_size, 1, embedding_units) 64, 1, 256\n",
        "    # 按照最后一个维度拼接\n",
        "    combined_x = tf.concat([tf.expand_dims(context_vector, 1), x], axis = -1)\n",
        "    # output.shape: (batch_size, 1, decoding_units) 64 1 1024\n",
        "    # state.shape: (batch_size, decoding_units) 64 1024\n",
        "    output, state = self.gru(combined_x)\n",
        "\n",
        "    # output.shape: (batch_size, decoding_units)\n",
        "    output = tf.reshape(output, (-1, output.shape[2]))\n",
        "    # output.shape： (batch_size, output_vocab_size)\n",
        "    output = self.fc(output)\n",
        "\n",
        "    return output, state, attention_weights\n",
        "\n",
        "decoder = Decoder(output_vocab_size, embedding_units, units, batch_size)\n",
        "outputs = decoder(tf.random.uniform((batch_size, 1)), sample_hidden, sample_output)\n",
        "decoder_output, decoder_hidden, decoder_aw = outputs\n",
        "print(\"decoder_output.shape: \", decoder_output.shape)\n",
        "print(\"decoder_hidden.shape: \", decoder_hidden.shape)\n",
        "# attention 用的是sample数据，所以和16有关系\n",
        "print(\"decoder_attention_weights.shape: \", decoder_aw.shape)"
      ],
      "execution_count": 18,
      "outputs": [
        {
          "output_type": "stream",
          "text": [
            "decoder_output.shape:  (64, 4935)\n",
            "decoder_hidden.shape:  (64, 1024)\n",
            "decoder_attention_weights.shape:  (64, 16, 1)\n"
          ],
          "name": "stdout"
        }
      ]
    },
    {
      "cell_type": "code",
      "metadata": {
        "id": "Jx1H_qxqQA1l"
      },
      "source": [
        "optimizer = keras.optimizers.Adam()\n",
        "# from_logits: True->没经过softmax False->经过softmax\n",
        "# reduction : mask 之后聚合\n",
        "loss_object = keras.losses.SparseCategoricalCrossentropy(from_logits = True, reduction = 'none')\n",
        "\n",
        "def loss_function(real, pred):\n",
        "  # padding部分为0，非padding部分为1\n",
        "  mask = tf.math.logical_not(tf.math.equal(real,0))\n",
        "  loss_ = loss_object(real, pred)\n",
        "\n",
        "  # 精度转化\n",
        "  mask = tf.cast(mask, dtype=loss_.dtype)\n",
        "  loss_ *= mask\n",
        "\n",
        "  return tf.reduce_mean(loss_)"
      ],
      "execution_count": 19,
      "outputs": []
    },
    {
      "cell_type": "code",
      "metadata": {
        "id": "crCz78WPTSny"
      },
      "source": [
        "@tf.function\n",
        "def train_step(inp, targ, encoding_hidden):\n",
        "  loss = 0\n",
        "  with tf.GradientTape() as tape:\n",
        "    encoding_output, encoding_hidden = encoder(inp, encoding_hidden)\n",
        "    decoding_hidden = encoding_hidden\n",
        "    # eg:<start> I am here <end>\n",
        "    # 1. <start> -> I\n",
        "    # 2. I -> am\n",
        "    # 3. am -> here\n",
        "    # 4. here -> <end>\n",
        "    for t in range(0, targ.shape[1] - 1):\n",
        "      # batch_size 1\n",
        "      decoding_input = tf.expand_dims(targ[:,t], 1)\n",
        "      prediction, decoding_hidden, _ = decoder(decoding_input, decoding_hidden, encoding_output)\n",
        "      loss += loss_function(targ[:,t+1], prediction)\n",
        "    \n",
        "  batch_loss = loss/int(targ.shape[0])\n",
        "  variables = encoder.trainable_variables + decoder.trainable_variables\n",
        "  gradients = tape.gradient(loss, variables)\n",
        "  optimizer.apply_gradients(zip(gradients, variables))\n",
        "  return batch_loss"
      ],
      "execution_count": 20,
      "outputs": []
    },
    {
      "cell_type": "code",
      "metadata": {
        "colab": {
          "base_uri": "https://localhost:8080/"
        },
        "id": "_pSyjvG7RQnd",
        "outputId": "b7085c06-ccea-4d90-c659-aec705c7677d"
      },
      "source": [
        "epochs = 10\n",
        "step_per_epoch = len(input_tensor) // batch_size\n",
        "\n",
        "for epoch in range(epochs):\n",
        "  start = time.time()\n",
        "  encoding_hidden = encoder.initialize_hidden_state()\n",
        "  total_loss = 0\n",
        "  # enumerate的返回形式 (batch, (inp, targ))\n",
        "  for(batch, (inp, targ)) in enumerate(train_dataset.take(step_per_epoch)):\n",
        "    batch_loss = train_step(inp, targ, encoding_hidden)\n",
        "    total_loss += batch_loss\n",
        "    if batch % 100 == 0:\n",
        "      print('Epoch {} Batch {} Loss {:.4f}'.format(epoch+1, batch, batch_loss.numpy()))\n",
        "  print('Epoch {} Loss {:.4f}'.format(epoch + 1, total_loss / step_per_epoch))\n",
        "  print('Time take for 1 epoch {} sec\\n'.format(time.time()-start))"
      ],
      "execution_count": 21,
      "outputs": [
        {
          "output_type": "stream",
          "text": [
            "Epoch 1 Batch 0 Loss 0.7931\n",
            "Epoch 1 Batch 100 Loss 0.3765\n",
            "Epoch 1 Batch 200 Loss 0.3205\n",
            "Epoch 1 Batch 300 Loss 0.2840\n",
            "Epoch 1 Batch 400 Loss 0.2504\n",
            "Epoch 1 Loss 0.3333\n",
            "Time take for 1 epoch 1747.8085074424744 sec\n",
            "\n",
            "Epoch 2 Batch 0 Loss 0.2366\n",
            "Epoch 2 Batch 100 Loss 0.2182\n",
            "Epoch 2 Batch 200 Loss 0.2294\n",
            "Epoch 2 Batch 300 Loss 0.2037\n",
            "Epoch 2 Batch 400 Loss 0.1675\n",
            "Epoch 2 Loss 0.2087\n",
            "Time take for 1 epoch 1783.8532795906067 sec\n",
            "\n",
            "Epoch 3 Batch 0 Loss 0.1424\n",
            "Epoch 3 Batch 100 Loss 0.1524\n",
            "Epoch 3 Batch 200 Loss 0.1617\n",
            "Epoch 3 Batch 300 Loss 0.1556\n",
            "Epoch 3 Batch 400 Loss 0.0953\n",
            "Epoch 3 Loss 0.1297\n",
            "Time take for 1 epoch 1806.8164820671082 sec\n",
            "\n",
            "Epoch 4 Batch 0 Loss 0.0954\n",
            "Epoch 4 Batch 100 Loss 0.0852\n",
            "Epoch 4 Batch 200 Loss 0.0774\n",
            "Epoch 4 Batch 300 Loss 0.0879\n",
            "Epoch 4 Batch 400 Loss 0.0536\n",
            "Epoch 4 Loss 0.0796\n",
            "Time take for 1 epoch 1713.6320838928223 sec\n",
            "\n",
            "Epoch 5 Batch 0 Loss 0.0408\n",
            "Epoch 5 Batch 100 Loss 0.0464\n",
            "Epoch 5 Batch 200 Loss 0.0495\n",
            "Epoch 5 Batch 300 Loss 0.0601\n",
            "Epoch 5 Batch 400 Loss 0.0228\n",
            "Epoch 5 Loss 0.0505\n",
            "Time take for 1 epoch 1714.358787536621 sec\n",
            "\n",
            "Epoch 6 Batch 0 Loss 0.0258\n",
            "Epoch 6 Batch 100 Loss 0.0366\n",
            "Epoch 6 Batch 200 Loss 0.0504\n",
            "Epoch 6 Batch 300 Loss 0.0249\n",
            "Epoch 6 Batch 400 Loss 0.0207\n",
            "Epoch 6 Loss 0.0339\n",
            "Time take for 1 epoch 1713.2260019779205 sec\n",
            "\n",
            "Epoch 7 Batch 0 Loss 0.0194\n",
            "Epoch 7 Batch 100 Loss 0.0195\n",
            "Epoch 7 Batch 200 Loss 0.0295\n",
            "Epoch 7 Batch 300 Loss 0.0212\n",
            "Epoch 7 Batch 400 Loss 0.0194\n",
            "Epoch 7 Loss 0.0238\n",
            "Time take for 1 epoch 1700.1806745529175 sec\n",
            "\n",
            "Epoch 8 Batch 0 Loss 0.0138\n",
            "Epoch 8 Batch 100 Loss 0.0174\n",
            "Epoch 8 Batch 200 Loss 0.0181\n",
            "Epoch 8 Batch 300 Loss 0.0209\n",
            "Epoch 8 Batch 400 Loss 0.0119\n",
            "Epoch 8 Loss 0.0180\n",
            "Time take for 1 epoch 1692.353857755661 sec\n",
            "\n",
            "Epoch 9 Batch 0 Loss 0.0143\n",
            "Epoch 9 Batch 100 Loss 0.0100\n",
            "Epoch 9 Batch 200 Loss 0.0097\n",
            "Epoch 9 Batch 300 Loss 0.0117\n",
            "Epoch 9 Batch 400 Loss 0.0089\n",
            "Epoch 9 Loss 0.0149\n",
            "Time take for 1 epoch 1715.764030456543 sec\n",
            "\n",
            "Epoch 10 Batch 0 Loss 0.0062\n",
            "Epoch 10 Batch 100 Loss 0.0077\n",
            "Epoch 10 Batch 200 Loss 0.0154\n",
            "Epoch 10 Batch 300 Loss 0.0173\n",
            "Epoch 10 Batch 400 Loss 0.0122\n",
            "Epoch 10 Loss 0.0127\n",
            "Time take for 1 epoch 1696.479917049408 sec\n",
            "\n"
          ],
          "name": "stdout"
        }
      ]
    },
    {
      "cell_type": "code",
      "metadata": {
        "id": "8lMwkmq5BYys"
      },
      "source": [
        "def evalute(input_sentence):\n",
        "  attention_matrix = np.zeros((max_length_output, max_length_input))\n",
        "  input_sentence = preprocess_sentence(input_sentence)\n",
        "\n",
        "  inputs = [input_tokenizer.word_index[token] for token in input_sentence.split(' ')]\n",
        "  inputs = keras.preprocessing.sequence.pad_sequences([inputs], maxlen = max_length_input, padding = 'post')\n",
        "  inputs = tf.convert_to_tensor(inputs)\n",
        "  results = ''\n",
        "  encoding_hidden = tf.zeros((1,units))\n",
        "\n",
        "  encoding_outputs, encoding_hidden = encoder(inputs, encoding_hidden)\n",
        "  decoding_hidden = encoding_hidden\n",
        "\n",
        "  # eg: <start> -> A -> B -> ...\n",
        "  # decoding_input.shape (1,1) 为batch扩展维度\n",
        "  decoding_input = tf.expand_dims([output_tokenizer.word_index['<start>']],0)\n",
        "  \n",
        "  for t in range(max_length_output):\n",
        "    predictions, decoding_hidden, attention_weights = decoder(\n",
        "        decoding_input, decoding_hidden, encoding_outputs)\n",
        "    # attention_weights.shape: (batch_size, input_length, 1) (1,16,1)\n",
        "    attention_weights = tf.reshape(attention_weights, (-1,))\n",
        "    # attention_weights.shape: 1 16\n",
        "    attention_matrix[t] = attention_weights.numpy()\n",
        "\n",
        "    # predictions.shape: [batch_size, vocab_size] (1,4935)\n",
        "    predicted_id = tf.argmax(predictions[0]).numpy()\n",
        "    results += output_tokenizer.index_word[predicted_id] + ' '\n",
        "\n",
        "    if output_tokenizer.index_word[predicted_id] == '<end>':\n",
        "      return results, input_sentence, attention_matrix\n",
        "    # decoding_input.shape (1,1) 为batch扩展维度\n",
        "    decoding_input = tf.expand_dims([predicted_id],0)\n",
        "  return results, input_sentence, attention_matrix\n",
        "\n",
        "# 绘制attention_matrix\n",
        "def plot_attention(attention_matrix, input_sentence, predicted_sentence):\n",
        "  fig = plt.figure(figsize=(10,10))\n",
        "  ax = fig.add_subplot(1,1,1)\n",
        "  ax.matshow(attention_matrix, cmap = 'viridis')\n",
        "  font_dict = {'fontsize': 14}\n",
        "  ax.set_xticklabels([''] + input_sentence,\n",
        "              fontdict = font_dict, rotation = 90)\n",
        "  ax.set_yticklabels([''] + predicted_sentence,\n",
        "              fontdict = font_dict,)\n",
        "  plt.show()\n",
        "  \n",
        "def translate(input_sentence):\n",
        "  results, input_sentence, attention_matrix = evalute(input_sentence)\n",
        "  print(\"Input: %s\" % (input_sentence))\n",
        "  print(\"Predicted translation: %s\" % (results))\n",
        "  # 去除padding部分\n",
        "  attention_matrix = attention_matrix[:len(results.split(' ')),\n",
        "                      :len(input_sentence.split(' '))]\n",
        "  plot_attention(attention_matrix, input_sentence.split(' '), results.split(' '))"
      ],
      "execution_count": 22,
      "outputs": []
    },
    {
      "cell_type": "code",
      "metadata": {
        "colab": {
          "base_uri": "https://localhost:8080/",
          "height": 677
        },
        "id": "aY9VjIyKLcRP",
        "outputId": "30227d98-2b42-4da3-f6a1-b3559d372dda"
      },
      "source": [
        "# En : it's really cold here\n",
        "translate(u'hace mucho frío aquí.')"
      ],
      "execution_count": 26,
      "outputs": [
        {
          "output_type": "stream",
          "text": [
            "Input: <start> hace mucho frio aqui . <end>\n",
            "Predicted translation: it s very cold here . <end> \n"
          ],
          "name": "stdout"
        },
        {
          "output_type": "display_data",
          "data": {
            "image/png": "[encoded data removed]",
            "text/plain": [
              "<Figure size 720x720 with 1 Axes>"
            ]
          },
          "metadata": {
            "tags": [],
            "needs_background": "light"
          }
        }
      ]
    }
  ]
}